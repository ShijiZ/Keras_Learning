{
 "cells": [
  {
   "cell_type": "markdown",
   "metadata": {},
   "source": [
    "## Predict Red or White"
   ]
  },
  {
   "cell_type": "code",
   "execution_count": 1,
   "metadata": {},
   "outputs": [],
   "source": [
    "# Import pandas \n",
    "import pandas as pd\n",
    "\n",
    "# Read in white wine data \n",
    "white = pd.read_csv(\n",
    "    \"http://archive.ics.uci.edu/ml/machine-learning-databases/wine-quality/winequality-white.csv\", sep=';')\n",
    "\n",
    "# Read in red wine data \n",
    "red = pd.read_csv(\n",
    "    \"http://archive.ics.uci.edu/ml/machine-learning-databases/wine-quality/winequality-red.csv\", sep=';')"
   ]
  },
  {
   "cell_type": "markdown",
   "metadata": {},
   "source": [
    "### Data Exploration"
   ]
  },
  {
   "cell_type": "code",
   "execution_count": 2,
   "metadata": {},
   "outputs": [
    {
     "name": "stdout",
     "output_type": "stream",
     "text": [
      "<class 'pandas.core.frame.DataFrame'>\n",
      "RangeIndex: 4898 entries, 0 to 4897\n",
      "Data columns (total 12 columns):\n",
      "fixed acidity           4898 non-null float64\n",
      "volatile acidity        4898 non-null float64\n",
      "citric acid             4898 non-null float64\n",
      "residual sugar          4898 non-null float64\n",
      "chlorides               4898 non-null float64\n",
      "free sulfur dioxide     4898 non-null float64\n",
      "total sulfur dioxide    4898 non-null float64\n",
      "density                 4898 non-null float64\n",
      "pH                      4898 non-null float64\n",
      "sulphates               4898 non-null float64\n",
      "alcohol                 4898 non-null float64\n",
      "quality                 4898 non-null int64\n",
      "dtypes: float64(11), int64(1)\n",
      "memory usage: 459.3 KB\n",
      "None\n",
      "<class 'pandas.core.frame.DataFrame'>\n",
      "RangeIndex: 1599 entries, 0 to 1598\n",
      "Data columns (total 12 columns):\n",
      "fixed acidity           1599 non-null float64\n",
      "volatile acidity        1599 non-null float64\n",
      "citric acid             1599 non-null float64\n",
      "residual sugar          1599 non-null float64\n",
      "chlorides               1599 non-null float64\n",
      "free sulfur dioxide     1599 non-null float64\n",
      "total sulfur dioxide    1599 non-null float64\n",
      "density                 1599 non-null float64\n",
      "pH                      1599 non-null float64\n",
      "sulphates               1599 non-null float64\n",
      "alcohol                 1599 non-null float64\n",
      "quality                 1599 non-null int64\n",
      "dtypes: float64(11), int64(1)\n",
      "memory usage: 150.0 KB\n",
      "None\n"
     ]
    }
   ],
   "source": [
    "# Print info on white wine\n",
    "print(white.info())\n",
    "\n",
    "# Print info on red wine\n",
    "print(red.info())"
   ]
  },
  {
   "cell_type": "code",
   "execution_count": 3,
   "metadata": {},
   "outputs": [
    {
     "name": "stdout",
     "output_type": "stream",
     "text": [
      "   fixed acidity  volatile acidity  citric acid  residual sugar  chlorides  \\\n",
      "0            7.4              0.70         0.00             1.9      0.076   \n",
      "1            7.8              0.88         0.00             2.6      0.098   \n",
      "2            7.8              0.76         0.04             2.3      0.092   \n",
      "3           11.2              0.28         0.56             1.9      0.075   \n",
      "4            7.4              0.70         0.00             1.9      0.076   \n",
      "\n",
      "   free sulfur dioxide  total sulfur dioxide  density    pH  sulphates  \\\n",
      "0                 11.0                  34.0   0.9978  3.51       0.56   \n",
      "1                 25.0                  67.0   0.9968  3.20       0.68   \n",
      "2                 15.0                  54.0   0.9970  3.26       0.65   \n",
      "3                 17.0                  60.0   0.9980  3.16       0.58   \n",
      "4                 11.0                  34.0   0.9978  3.51       0.56   \n",
      "\n",
      "   alcohol  quality  \n",
      "0      9.4        5  \n",
      "1      9.8        5  \n",
      "2      9.8        5  \n",
      "3      9.8        6  \n",
      "4      9.4        5  \n",
      "      fixed acidity  volatile acidity  citric acid  residual sugar  chlorides  \\\n",
      "4893            6.2              0.21         0.29             1.6      0.039   \n",
      "4894            6.6              0.32         0.36             8.0      0.047   \n",
      "4895            6.5              0.24         0.19             1.2      0.041   \n",
      "4896            5.5              0.29         0.30             1.1      0.022   \n",
      "4897            6.0              0.21         0.38             0.8      0.020   \n",
      "\n",
      "      free sulfur dioxide  total sulfur dioxide  density    pH  sulphates  \\\n",
      "4893                 24.0                  92.0  0.99114  3.27       0.50   \n",
      "4894                 57.0                 168.0  0.99490  3.15       0.46   \n",
      "4895                 30.0                 111.0  0.99254  2.99       0.46   \n",
      "4896                 20.0                 110.0  0.98869  3.34       0.38   \n",
      "4897                 22.0                  98.0  0.98941  3.26       0.32   \n",
      "\n",
      "      alcohol  quality  \n",
      "4893     11.2        6  \n",
      "4894      9.6        5  \n",
      "4895      9.4        6  \n",
      "4896     12.8        7  \n",
      "4897     11.8        6  \n",
      "      fixed acidity  volatile acidity  citric acid  residual sugar  chlorides  \\\n",
      "1342            7.6             0.540         0.02             1.7      0.085   \n",
      "751             8.3             0.650         0.10             2.9      0.089   \n",
      "1421            7.5             0.400         0.18             1.6      0.079   \n",
      "915             8.6             0.315         0.40             2.2      0.079   \n",
      "423            10.5             0.240         0.47             2.1      0.066   \n",
      "\n",
      "      free sulfur dioxide  total sulfur dioxide  density    pH  sulphates  \\\n",
      "1342                 17.0                  31.0  0.99589  3.37       0.51   \n",
      "751                  17.0                  40.0  0.99803  3.29       0.55   \n",
      "1421                 24.0                  58.0  0.99650  3.34       0.58   \n",
      "915                   3.0                   6.0  0.99512  3.27       0.67   \n",
      "423                   6.0                  24.0  0.99780  3.15       0.90   \n",
      "\n",
      "      alcohol  quality  \n",
      "1342     10.4        6  \n",
      "751       9.5        5  \n",
      "1421      9.4        5  \n",
      "915      11.9        6  \n",
      "423      11.0        7  \n",
      "       fixed acidity  volatile acidity  citric acid  residual sugar  \\\n",
      "count    4898.000000       4898.000000  4898.000000     4898.000000   \n",
      "mean        6.854788          0.278241     0.334192        6.391415   \n",
      "std         0.843868          0.100795     0.121020        5.072058   \n",
      "min         3.800000          0.080000     0.000000        0.600000   \n",
      "25%         6.300000          0.210000     0.270000        1.700000   \n",
      "50%         6.800000          0.260000     0.320000        5.200000   \n",
      "75%         7.300000          0.320000     0.390000        9.900000   \n",
      "max        14.200000          1.100000     1.660000       65.800000   \n",
      "\n",
      "         chlorides  free sulfur dioxide  total sulfur dioxide      density  \\\n",
      "count  4898.000000          4898.000000           4898.000000  4898.000000   \n",
      "mean      0.045772            35.308085            138.360657     0.994027   \n",
      "std       0.021848            17.007137             42.498065     0.002991   \n",
      "min       0.009000             2.000000              9.000000     0.987110   \n",
      "25%       0.036000            23.000000            108.000000     0.991723   \n",
      "50%       0.043000            34.000000            134.000000     0.993740   \n",
      "75%       0.050000            46.000000            167.000000     0.996100   \n",
      "max       0.346000           289.000000            440.000000     1.038980   \n",
      "\n",
      "                pH    sulphates      alcohol      quality  \n",
      "count  4898.000000  4898.000000  4898.000000  4898.000000  \n",
      "mean      3.188267     0.489847    10.514267     5.877909  \n",
      "std       0.151001     0.114126     1.230621     0.885639  \n",
      "min       2.720000     0.220000     8.000000     3.000000  \n",
      "25%       3.090000     0.410000     9.500000     5.000000  \n",
      "50%       3.180000     0.470000    10.400000     6.000000  \n",
      "75%       3.280000     0.550000    11.400000     6.000000  \n",
      "max       3.820000     1.080000    14.200000     9.000000  \n"
     ]
    }
   ],
   "source": [
    "# First rows of `red` \n",
    "print(red.head())\n",
    "\n",
    "# Last rows of `white`\n",
    "print(white.tail())\n",
    "\n",
    "# Take a sample of 5 rows of `red`\n",
    "print(red.sample(5))\n",
    "\n",
    "# Describe `white`\n",
    "print(white.describe())"
   ]
  },
  {
   "cell_type": "code",
   "execution_count": 4,
   "metadata": {},
   "outputs": [
    {
     "name": "stdout",
     "output_type": "stream",
     "text": [
      "      fixed acidity  volatile acidity  citric acid  residual sugar  chlorides  \\\n",
      "0             False             False        False           False      False   \n",
      "1             False             False        False           False      False   \n",
      "2             False             False        False           False      False   \n",
      "3             False             False        False           False      False   \n",
      "4             False             False        False           False      False   \n",
      "5             False             False        False           False      False   \n",
      "6             False             False        False           False      False   \n",
      "7             False             False        False           False      False   \n",
      "8             False             False        False           False      False   \n",
      "9             False             False        False           False      False   \n",
      "10            False             False        False           False      False   \n",
      "11            False             False        False           False      False   \n",
      "12            False             False        False           False      False   \n",
      "13            False             False        False           False      False   \n",
      "14            False             False        False           False      False   \n",
      "15            False             False        False           False      False   \n",
      "16            False             False        False           False      False   \n",
      "17            False             False        False           False      False   \n",
      "18            False             False        False           False      False   \n",
      "19            False             False        False           False      False   \n",
      "20            False             False        False           False      False   \n",
      "21            False             False        False           False      False   \n",
      "22            False             False        False           False      False   \n",
      "23            False             False        False           False      False   \n",
      "24            False             False        False           False      False   \n",
      "25            False             False        False           False      False   \n",
      "26            False             False        False           False      False   \n",
      "27            False             False        False           False      False   \n",
      "28            False             False        False           False      False   \n",
      "29            False             False        False           False      False   \n",
      "...             ...               ...          ...             ...        ...   \n",
      "1569          False             False        False           False      False   \n",
      "1570          False             False        False           False      False   \n",
      "1571          False             False        False           False      False   \n",
      "1572          False             False        False           False      False   \n",
      "1573          False             False        False           False      False   \n",
      "1574          False             False        False           False      False   \n",
      "1575          False             False        False           False      False   \n",
      "1576          False             False        False           False      False   \n",
      "1577          False             False        False           False      False   \n",
      "1578          False             False        False           False      False   \n",
      "1579          False             False        False           False      False   \n",
      "1580          False             False        False           False      False   \n",
      "1581          False             False        False           False      False   \n",
      "1582          False             False        False           False      False   \n",
      "1583          False             False        False           False      False   \n",
      "1584          False             False        False           False      False   \n",
      "1585          False             False        False           False      False   \n",
      "1586          False             False        False           False      False   \n",
      "1587          False             False        False           False      False   \n",
      "1588          False             False        False           False      False   \n",
      "1589          False             False        False           False      False   \n",
      "1590          False             False        False           False      False   \n",
      "1591          False             False        False           False      False   \n",
      "1592          False             False        False           False      False   \n",
      "1593          False             False        False           False      False   \n",
      "1594          False             False        False           False      False   \n",
      "1595          False             False        False           False      False   \n",
      "1596          False             False        False           False      False   \n",
      "1597          False             False        False           False      False   \n",
      "1598          False             False        False           False      False   \n",
      "\n",
      "      free sulfur dioxide  total sulfur dioxide  density     pH  sulphates  \\\n",
      "0                   False                 False    False  False      False   \n",
      "1                   False                 False    False  False      False   \n",
      "2                   False                 False    False  False      False   \n",
      "3                   False                 False    False  False      False   \n",
      "4                   False                 False    False  False      False   \n",
      "5                   False                 False    False  False      False   \n",
      "6                   False                 False    False  False      False   \n",
      "7                   False                 False    False  False      False   \n",
      "8                   False                 False    False  False      False   \n",
      "9                   False                 False    False  False      False   \n",
      "10                  False                 False    False  False      False   \n",
      "11                  False                 False    False  False      False   \n",
      "12                  False                 False    False  False      False   \n",
      "13                  False                 False    False  False      False   \n",
      "14                  False                 False    False  False      False   \n",
      "15                  False                 False    False  False      False   \n",
      "16                  False                 False    False  False      False   \n",
      "17                  False                 False    False  False      False   \n",
      "18                  False                 False    False  False      False   \n",
      "19                  False                 False    False  False      False   \n",
      "20                  False                 False    False  False      False   \n",
      "21                  False                 False    False  False      False   \n",
      "22                  False                 False    False  False      False   \n",
      "23                  False                 False    False  False      False   \n",
      "24                  False                 False    False  False      False   \n",
      "25                  False                 False    False  False      False   \n",
      "26                  False                 False    False  False      False   \n",
      "27                  False                 False    False  False      False   \n",
      "28                  False                 False    False  False      False   \n",
      "29                  False                 False    False  False      False   \n",
      "...                   ...                   ...      ...    ...        ...   \n",
      "1569                False                 False    False  False      False   \n",
      "1570                False                 False    False  False      False   \n",
      "1571                False                 False    False  False      False   \n",
      "1572                False                 False    False  False      False   \n",
      "1573                False                 False    False  False      False   \n",
      "1574                False                 False    False  False      False   \n",
      "1575                False                 False    False  False      False   \n",
      "1576                False                 False    False  False      False   \n",
      "1577                False                 False    False  False      False   \n",
      "1578                False                 False    False  False      False   \n",
      "1579                False                 False    False  False      False   \n",
      "1580                False                 False    False  False      False   \n",
      "1581                False                 False    False  False      False   \n",
      "1582                False                 False    False  False      False   \n",
      "1583                False                 False    False  False      False   \n",
      "1584                False                 False    False  False      False   \n",
      "1585                False                 False    False  False      False   \n",
      "1586                False                 False    False  False      False   \n",
      "1587                False                 False    False  False      False   \n",
      "1588                False                 False    False  False      False   \n",
      "1589                False                 False    False  False      False   \n",
      "1590                False                 False    False  False      False   \n",
      "1591                False                 False    False  False      False   \n",
      "1592                False                 False    False  False      False   \n",
      "1593                False                 False    False  False      False   \n",
      "1594                False                 False    False  False      False   \n",
      "1595                False                 False    False  False      False   \n",
      "1596                False                 False    False  False      False   \n",
      "1597                False                 False    False  False      False   \n",
      "1598                False                 False    False  False      False   \n",
      "\n",
      "      alcohol  quality  \n",
      "0       False    False  \n",
      "1       False    False  \n",
      "2       False    False  \n",
      "3       False    False  \n",
      "4       False    False  \n",
      "5       False    False  \n",
      "6       False    False  \n",
      "7       False    False  \n",
      "8       False    False  \n",
      "9       False    False  \n",
      "10      False    False  \n",
      "11      False    False  \n",
      "12      False    False  \n",
      "13      False    False  \n",
      "14      False    False  \n",
      "15      False    False  \n",
      "16      False    False  \n",
      "17      False    False  \n",
      "18      False    False  \n",
      "19      False    False  \n",
      "20      False    False  \n",
      "21      False    False  \n",
      "22      False    False  \n",
      "23      False    False  \n",
      "24      False    False  \n",
      "25      False    False  \n",
      "26      False    False  \n",
      "27      False    False  \n",
      "28      False    False  \n",
      "29      False    False  \n",
      "...       ...      ...  \n",
      "1569    False    False  \n",
      "1570    False    False  \n",
      "1571    False    False  \n",
      "1572    False    False  \n",
      "1573    False    False  \n",
      "1574    False    False  \n",
      "1575    False    False  \n",
      "1576    False    False  \n",
      "1577    False    False  \n",
      "1578    False    False  \n",
      "1579    False    False  \n",
      "1580    False    False  \n",
      "1581    False    False  \n",
      "1582    False    False  \n",
      "1583    False    False  \n",
      "1584    False    False  \n",
      "1585    False    False  \n",
      "1586    False    False  \n",
      "1587    False    False  \n",
      "1588    False    False  \n",
      "1589    False    False  \n",
      "1590    False    False  \n",
      "1591    False    False  \n",
      "1592    False    False  \n",
      "1593    False    False  \n",
      "1594    False    False  \n",
      "1595    False    False  \n",
      "1596    False    False  \n",
      "1597    False    False  \n",
      "1598    False    False  \n",
      "\n",
      "[1599 rows x 12 columns]\n"
     ]
    }
   ],
   "source": [
    "# Double check for null values in `red`\n",
    "print(pd.isnull(red))"
   ]
  },
  {
   "cell_type": "code",
   "execution_count": 5,
   "metadata": {},
   "outputs": [
    {
     "data": {
      "text/plain": [
       "<Figure size 1000x500 with 2 Axes>"
      ]
     },
     "metadata": {},
     "output_type": "display_data"
    }
   ],
   "source": [
    "import matplotlib.pyplot as plt\n",
    "\n",
    "fig, ax = plt.subplots(1,2, figsize=(10,5))\n",
    "\n",
    "ax[0].hist(red.alcohol, 10, facecolor='red', ec=\"black\", alpha=0.5, label=\"Red wine\")\n",
    "ax[1].hist(white.alcohol, 10, facecolor='white', ec=\"black\", lw=0.5, alpha=0.5, label=\"White wine\")\n",
    "\n",
    "#fig.subplots_adjust(left=0, right=1, bottom=0, top=0.5, hspace=0.05, wspace=1)\n",
    "ax[0].set_ylim([0, 1000])\n",
    "ax[0].set_xlabel(\"Alcohol in % Vol\")\n",
    "ax[0].set_ylabel(\"Frequency\")\n",
    "ax[1].set_xlabel(\"Alcohol in % Vol\")\n",
    "ax[1].set_ylabel(\"Frequency\")\n",
    "#ax[0].legend(loc='best')\n",
    "#ax[1].legend(loc='best')\n",
    "fig.suptitle(\"Distribution of Alcohol in % Vol\")\n",
    "\n",
    "plt.show()"
   ]
  },
  {
   "cell_type": "code",
   "execution_count": 6,
   "metadata": {},
   "outputs": [
    {
     "name": "stdout",
     "output_type": "stream",
     "text": [
      "(array([  0,   7, 673, 452, 305, 133,  21,   8]), array([ 7,  8,  9, 10, 11, 12, 13, 14, 15]))\n",
      "(array([   0,  317, 1606, 1256,  906,  675,  131,    7]), array([ 7,  8,  9, 10, 11, 12, 13, 14, 15]))\n"
     ]
    }
   ],
   "source": [
    "import numpy as np\n",
    "print(np.histogram(red.alcohol, bins=[7,8,9,10,11,12,13,14,15]))\n",
    "print(np.histogram(white.alcohol, bins=[7,8,9,10,11,12,13,14,15]))"
   ]
  },
  {
   "cell_type": "code",
   "execution_count": 7,
   "metadata": {},
   "outputs": [
    {
     "data": {
      "image/png": "[encoded data removed]",
      "text/plain": [
       "<Figure size 720x360 with 2 Axes>"
      ]
     },
     "metadata": {},
     "output_type": "display_data"
    }
   ],
   "source": [
    "import matplotlib.pyplot as plt\n",
    "\n",
    "fig, ax = plt.subplots(1, 2, figsize=(10, 5))\n",
    "\n",
    "ax[0].scatter(red['quality'], red[\"sulphates\"], color=\"red\",edgecolors=\"black\")\n",
    "ax[1].scatter(white['quality'], white['sulphates'], color=\"white\", edgecolors=\"black\", lw=0.5)\n",
    "\n",
    "ax[0].set_title(\"Red Wine\")\n",
    "ax[1].set_title(\"White Wine\")\n",
    "ax[0].set_xlabel(\"Quality\")\n",
    "ax[1].set_xlabel(\"Quality\")\n",
    "ax[0].set_ylabel(\"Sulphates\")\n",
    "ax[1].set_ylabel(\"Sulphates\")\n",
    "ax[0].set_xlim([0,10])\n",
    "ax[1].set_xlim([0,10])\n",
    "ax[0].set_ylim([0,2.5])\n",
    "ax[1].set_ylim([0,2.5])\n",
    "#fig.subplots_adjust(wspace=0.5)\n",
    "fig.suptitle(\"Wine Quality by Amount of Sulphates\")\n",
    "\n",
    "plt.show()"
   ]
  },
  {
   "cell_type": "code",
   "execution_count": 8,
   "metadata": {},
   "outputs": [
    {
     "data": {
      "image/png": "[encoded data removed]",
      "text/plain": [
       "<Figure size 720x360 with 2 Axes>"
      ]
     },
     "metadata": {},
     "output_type": "display_data"
    }
   ],
   "source": [
    "import matplotlib.pyplot as plt\n",
    "import numpy as np\n",
    "\n",
    "np.random.seed(570)\n",
    "\n",
    "redlabels = np.unique(red['quality'])\n",
    "whitelabels = np.unique(white['quality'])\n",
    "\n",
    "import matplotlib.pyplot as plt\n",
    "fig, ax = plt.subplots(1, 2, figsize=(10, 5))\n",
    "redcolors = np.random.rand(6,4)\n",
    "whitecolors = np.append(redcolors, np.random.rand(1,4), axis=0)\n",
    "\n",
    "for i in range(len(redcolors)):\n",
    "    redy = red['alcohol'][red.quality == redlabels[i]]\n",
    "    redx = red['volatile acidity'][red.quality == redlabels[i]]\n",
    "    ax[0].scatter(redx, redy, c=redcolors[i])\n",
    "for i in range(len(whitecolors)):\n",
    "    whitey = white['alcohol'][white.quality == whitelabels[i]]\n",
    "    whitex = white['volatile acidity'][white.quality == whitelabels[i]]\n",
    "    ax[1].scatter(whitex, whitey, c=whitecolors[i])\n",
    "    \n",
    "ax[0].set_title(\"Red Wine\")\n",
    "ax[1].set_title(\"White Wine\")\n",
    "ax[0].set_xlim([0,1.7])\n",
    "ax[1].set_xlim([0,1.7])\n",
    "ax[0].set_ylim([5,15.5])\n",
    "ax[1].set_ylim([5,15.5])\n",
    "ax[0].set_xlabel(\"Volatile Acidity\")\n",
    "ax[0].set_ylabel(\"Alcohol\")\n",
    "ax[1].set_xlabel(\"Volatile Acidity\")\n",
    "ax[1].set_ylabel(\"Alcohol\") \n",
    "#ax[0].legend(redlabels, loc='best', bbox_to_anchor=(1.3, 1))\n",
    "ax[1].legend(whitelabels, loc='best', bbox_to_anchor=(1.3, 1))\n",
    "#fig.suptitle(\"Alcohol - Volatile Acidity\")\n",
    "#fig.subplots_adjust(top=0.85, wspace=0.7)\n",
    "\n",
    "plt.show()"
   ]
  },
  {
   "cell_type": "markdown",
   "metadata": {},
   "source": [
    "### Preprocess Data"
   ]
  },
  {
   "cell_type": "code",
   "execution_count": 9,
   "metadata": {},
   "outputs": [],
   "source": [
    "# Add `type` column to `red` with value 1\n",
    "red['type'] = 1\n",
    "\n",
    "# Add `type` column to `white` with value 0\n",
    "white['type'] = 0\n",
    "\n",
    "# Append `white` to `red`\n",
    "wines = red.append(white, ignore_index=True)"
   ]
  },
  {
   "cell_type": "code",
   "execution_count": 10,
   "metadata": {},
   "outputs": [
    {
     "data": {
      "image/png": "[encoded data removed]",
      "text/plain": [
       "<Figure size 432x288 with 2 Axes>"
      ]
     },
     "metadata": {},
     "output_type": "display_data"
    }
   ],
   "source": [
    "import seaborn as sns\n",
    "corr = wines.corr()\n",
    "sns.heatmap(corr, \n",
    "            xticklabels=corr.columns.values,\n",
    "            yticklabels=corr.columns.values,\n",
    "           cmap=\"YlGnBu\")\n",
    "plt.show()"
   ]
  },
  {
   "cell_type": "code",
   "execution_count": 11,
   "metadata": {},
   "outputs": [],
   "source": [
    "# Import `train_test_split` from `sklearn.model_selection`\n",
    "from sklearn.model_selection import train_test_split\n",
    "\n",
    "# Specify the data \n",
    "X=wines.iloc[:,0:11]\n",
    "\n",
    "# Specify the target labels and flatten the array \n",
    "y=np.ravel(wines.type)\n",
    "\n",
    "# Split the data up in train and test sets\n",
    "X_train, X_test, y_train, y_test = train_test_split(X, y, test_size=0.33, random_state=42)\n"
   ]
  },
  {
   "cell_type": "code",
   "execution_count": 12,
   "metadata": {},
   "outputs": [],
   "source": [
    "# Import `StandardScaler` from `sklearn.preprocessing`\n",
    "from sklearn.preprocessing import StandardScaler\n",
    "\n",
    "# Define the scaler \n",
    "scaler = StandardScaler().fit(X_train)\n",
    "\n",
    "# Scale the train set\n",
    "X_train = scaler.transform(X_train)\n",
    "\n",
    "# Scale the test set\n",
    "X_test = scaler.transform(X_test)"
   ]
  },
  {
   "cell_type": "markdown",
   "metadata": {},
   "source": [
    "### Model Data"
   ]
  },
  {
   "cell_type": "code",
   "execution_count": 13,
   "metadata": {},
   "outputs": [
    {
     "name": "stderr",
     "output_type": "stream",
     "text": [
      "Using TensorFlow backend.\n"
     ]
    }
   ],
   "source": [
    "# Import `Sequential` from `keras.models`\n",
    "from keras.models import Sequential\n",
    "\n",
    "# Import `Dense` from `keras.layers`\n",
    "from keras.layers import Dense\n",
    "\n",
    "# Initialize the constructor\n",
    "model = Sequential()\n",
    "\n",
    "# Add an input layer \n",
    "model.add(Dense(12, activation='relu', input_shape=(11,)))\n",
    "\n",
    "# Add one hidden layer \n",
    "model.add(Dense(8, activation='relu'))\n",
    "\n",
    "# Add an output layer \n",
    "model.add(Dense(1, activation='sigmoid'))"
   ]
  },
  {
   "cell_type": "code",
   "execution_count": 14,
   "metadata": {},
   "outputs": [
    {
     "name": "stdout",
     "output_type": "stream",
     "text": [
      "(None, 1)\n",
      "\n",
      "_________________________________________________________________\n",
      "Layer (type)                 Output Shape              Param #   \n",
      "=================================================================\n",
      "dense_1 (Dense)              (None, 12)                144       \n",
      "_________________________________________________________________\n",
      "dense_2 (Dense)              (None, 8)                 104       \n",
      "_________________________________________________________________\n",
      "dense_3 (Dense)              (None, 1)                 9         \n",
      "=================================================================\n",
      "Total params: 257\n",
      "Trainable params: 257\n",
      "Non-trainable params: 0\n",
      "_________________________________________________________________\n",
      "None\n",
      "\n",
      "{'name': 'sequential_1', 'layers': [{'class_name': 'Dense', 'config': {'name': 'dense_1', 'trainable': True, 'batch_input_shape': (None, 11), 'dtype': 'float32', 'units': 12, 'activation': 'relu', 'use_bias': True, 'kernel_initializer': {'class_name': 'VarianceScaling', 'config': {'scale': 1.0, 'mode': 'fan_avg', 'distribution': 'uniform', 'seed': None}}, 'bias_initializer': {'class_name': 'Zeros', 'config': {}}, 'kernel_regularizer': None, 'bias_regularizer': None, 'activity_regularizer': None, 'kernel_constraint': None, 'bias_constraint': None}}, {'class_name': 'Dense', 'config': {'name': 'dense_2', 'trainable': True, 'units': 8, 'activation': 'relu', 'use_bias': True, 'kernel_initializer': {'class_name': 'VarianceScaling', 'config': {'scale': 1.0, 'mode': 'fan_avg', 'distribution': 'uniform', 'seed': None}}, 'bias_initializer': {'class_name': 'Zeros', 'config': {}}, 'kernel_regularizer': None, 'bias_regularizer': None, 'activity_regularizer': None, 'kernel_constraint': None, 'bias_constraint': None}}, {'class_name': 'Dense', 'config': {'name': 'dense_3', 'trainable': True, 'units': 1, 'activation': 'sigmoid', 'use_bias': True, 'kernel_initializer': {'class_name': 'VarianceScaling', 'config': {'scale': 1.0, 'mode': 'fan_avg', 'distribution': 'uniform', 'seed': None}}, 'bias_initializer': {'class_name': 'Zeros', 'config': {}}, 'kernel_regularizer': None, 'bias_regularizer': None, 'activity_regularizer': None, 'kernel_constraint': None, 'bias_constraint': None}}]}\n",
      "\n",
      "[array([[ 0.2896654 ,  0.01695609, -0.1637314 , -0.4055706 , -0.1897687 ,\n",
      "         0.05104744, -0.4755298 ,  0.04375035,  0.149944  ,  0.18585712,\n",
      "         0.04605234,  0.4203161 ],\n",
      "       [ 0.09246093, -0.00486219,  0.15394145, -0.3556453 ,  0.37075537,\n",
      "        -0.09201503,  0.22433394,  0.49172276,  0.02939814, -0.00528288,\n",
      "        -0.28554958, -0.29101855],\n",
      "       [ 0.13772285,  0.10540932, -0.16185051, -0.13713309, -0.30931568,\n",
      "         0.2913708 ,  0.22610158, -0.03789827,  0.03900152, -0.13670495,\n",
      "         0.02206749,  0.07224816],\n",
      "       [ 0.12972063, -0.46136355, -0.1358273 , -0.03706533,  0.21573442,\n",
      "         0.21198452, -0.02762926, -0.19320443,  0.24703926, -0.4224128 ,\n",
      "         0.29690397, -0.07473344],\n",
      "       [-0.06937274,  0.13956004, -0.04767117,  0.03820831,  0.27192348,\n",
      "        -0.47782913, -0.09866273, -0.42932004, -0.04532751, -0.17295876,\n",
      "        -0.3432657 ,  0.4816057 ],\n",
      "       [ 0.06270897,  0.10312521,  0.34606183, -0.12457022, -0.16116223,\n",
      "         0.03542614,  0.15460205, -0.48483256, -0.21644399,  0.17074299,\n",
      "        -0.3187413 , -0.00338858],\n",
      "       [-0.12783119, -0.04838416,  0.2083916 ,  0.33239806,  0.10142457,\n",
      "        -0.30532336, -0.38364607,  0.38588023,  0.01854885,  0.05628592,\n",
      "         0.19293177, -0.05149972],\n",
      "       [-0.43119535, -0.27155614, -0.4649146 , -0.25988257,  0.09503597,\n",
      "        -0.5009988 , -0.15289614, -0.41986507,  0.49207467,  0.00157392,\n",
      "        -0.16561732,  0.24532884],\n",
      "       [-0.17463535,  0.08331698,  0.2783636 , -0.14132953, -0.30007723,\n",
      "        -0.32280877, -0.1596224 ,  0.3233928 , -0.29511583,  0.41530758,\n",
      "        -0.45230752, -0.4677496 ],\n",
      "       [ 0.00880128,  0.33655512, -0.4528699 ,  0.43754292, -0.04207084,\n",
      "        -0.3803001 ,  0.21270508,  0.4346552 ,  0.4625556 , -0.18048412,\n",
      "        -0.29980046,  0.4583313 ],\n",
      "       [-0.3153236 , -0.26553845, -0.21347395, -0.48159593,  0.50684947,\n",
      "         0.29534268,  0.16204995,  0.30744392,  0.02605116, -0.42019787,\n",
      "        -0.2871666 ,  0.01862645]], dtype=float32), array([0., 0., 0., 0., 0., 0., 0., 0., 0., 0., 0., 0.], dtype=float32), array([[ 0.13802433, -0.1397422 ,  0.37863284, -0.15413004,  0.5285572 ,\n",
      "        -0.13628149,  0.03936303, -0.25822985],\n",
      "       [-0.4923173 , -0.3889836 , -0.35550442, -0.08421832, -0.25332853,\n",
      "        -0.01050067,  0.28014278,  0.4511721 ],\n",
      "       [ 0.12644804, -0.07388979,  0.54314303,  0.3243816 ,  0.36960304,\n",
      "         0.03181666, -0.4164722 , -0.5394448 ],\n",
      "       [ 0.4500739 ,  0.19391423, -0.21727106, -0.30200374, -0.48891065,\n",
      "         0.42746753, -0.34170333, -0.21399096],\n",
      "       [-0.53348607, -0.34708104, -0.44702923,  0.31050652, -0.529604  ,\n",
      "         0.4368825 , -0.46614015,  0.21192652],\n",
      "       [-0.5051053 ,  0.35415596, -0.3751518 , -0.2976757 , -0.4557444 ,\n",
      "        -0.53875005,  0.5048107 ,  0.12087846],\n",
      "       [ 0.49851513, -0.30494523,  0.10521847, -0.46860957,  0.2679804 ,\n",
      "        -0.04077768, -0.00542253,  0.31112713],\n",
      "       [-0.34450638, -0.16991124, -0.38176683, -0.3852437 , -0.49763155,\n",
      "         0.3795967 ,  0.42052734,  0.38327682],\n",
      "       [-0.36905417,  0.4003113 , -0.1917389 ,  0.21109205,  0.33099413,\n",
      "         0.1206221 , -0.02995032, -0.21631998],\n",
      "       [ 0.0382123 ,  0.51903856,  0.31960887, -0.01158792, -0.05701348,\n",
      "         0.49415326, -0.36317486, -0.18171829],\n",
      "       [ 0.42716026,  0.4860462 ,  0.29231024, -0.49826044,  0.38350588,\n",
      "         0.5166856 , -0.35148156,  0.00427073],\n",
      "       [ 0.14594537, -0.22531378,  0.36939985, -0.14032108, -0.48043332,\n",
      "        -0.00821644,  0.54728377, -0.17121464]], dtype=float32), array([0., 0., 0., 0., 0., 0., 0., 0.], dtype=float32), array([[ 0.7688639 ],\n",
      "       [ 0.16227716],\n",
      "       [ 0.3885014 ],\n",
      "       [-0.30456817],\n",
      "       [ 0.39023936],\n",
      "       [-0.56345725],\n",
      "       [-0.12128478],\n",
      "       [ 0.20257616]], dtype=float32), array([0.], dtype=float32)]\n"
     ]
    }
   ],
   "source": [
    "# Model output shape\n",
    "print(model.output_shape)\n",
    "print()\n",
    "# Model summary\n",
    "print(model.summary())\n",
    "print()\n",
    "# Model config\n",
    "print(model.get_config())\n",
    "print()\n",
    "# List all weight tensors \n",
    "print(model.get_weights())"
   ]
  },
  {
   "cell_type": "markdown",
   "metadata": {},
   "source": [
    "### Compile and Fit"
   ]
  },
  {
   "cell_type": "code",
   "execution_count": 15,
   "metadata": {},
   "outputs": [
    {
     "name": "stdout",
     "output_type": "stream",
     "text": [
      "Epoch 1/20\n",
      "4352/4352 [==============================] - 12s 3ms/step - loss: 0.0901 - acc: 0.9688\n",
      "Epoch 2/20\n",
      "4352/4352 [==============================] - 10s 2ms/step - loss: 0.0221 - acc: 0.9959\n",
      "Epoch 3/20\n",
      "4352/4352 [==============================] - 11s 3ms/step - loss: 0.0194 - acc: 0.9968\n",
      "Epoch 4/20\n",
      "4352/4352 [==============================] - 11s 2ms/step - loss: 0.0166 - acc: 0.9972\n",
      "Epoch 5/20\n",
      "4352/4352 [==============================] - 9s 2ms/step - loss: 0.0153 - acc: 0.9975\n",
      "Epoch 6/20\n",
      "4352/4352 [==============================] - 9s 2ms/step - loss: 0.0141 - acc: 0.9972\n",
      "Epoch 7/20\n",
      "4352/4352 [==============================] - 9s 2ms/step - loss: 0.0133 - acc: 0.9972\n",
      "Epoch 8/20\n",
      "4352/4352 [==============================] - 9s 2ms/step - loss: 0.0152 - acc: 0.9972\n",
      "Epoch 9/20\n",
      "4352/4352 [==============================] - 9s 2ms/step - loss: 0.0115 - acc: 0.9977\n",
      "Epoch 10/20\n",
      "4352/4352 [==============================] - 9s 2ms/step - loss: 0.0110 - acc: 0.9977\n",
      "Epoch 11/20\n",
      "4352/4352 [==============================] - 9s 2ms/step - loss: 0.0115 - acc: 0.9972\n",
      "Epoch 12/20\n",
      "4352/4352 [==============================] - 10s 2ms/step - loss: 0.0111 - acc: 0.9975\n",
      "Epoch 13/20\n",
      "4352/4352 [==============================] - 12s 3ms/step - loss: 0.0102 - acc: 0.9982\n",
      "Epoch 14/20\n",
      "4352/4352 [==============================] - 12s 3ms/step - loss: 0.0100 - acc: 0.9979\n",
      "Epoch 15/20\n",
      "4352/4352 [==============================] - 10s 2ms/step - loss: 0.0105 - acc: 0.9977\n",
      "Epoch 16/20\n",
      "4352/4352 [==============================] - 10s 2ms/step - loss: 0.0107 - acc: 0.9977\n",
      "Epoch 17/20\n",
      "4352/4352 [==============================] - 11s 2ms/step - loss: 0.0092 - acc: 0.9979\n",
      "Epoch 18/20\n",
      "4352/4352 [==============================] - 11s 3ms/step - loss: 0.0097 - acc: 0.9982\n",
      "Epoch 19/20\n",
      "4352/4352 [==============================] - 11s 2ms/step - loss: 0.0091 - acc: 0.9982\n",
      "Epoch 20/20\n",
      "4352/4352 [==============================] - 10s 2ms/step - loss: 0.0086 - acc: 0.9984\n"
     ]
    },
    {
     "data": {
      "text/plain": [
       "<keras.callbacks.History at 0x1a3b59df60>"
      ]
     },
     "execution_count": 15,
     "metadata": {},
     "output_type": "execute_result"
    }
   ],
   "source": [
    "model.compile(loss='binary_crossentropy',\n",
    "              optimizer='adam',\n",
    "              metrics=['accuracy'])\n",
    "                   \n",
    "model.fit(X_train, y_train, epochs=20, batch_size=1, verbose=1)"
   ]
  },
  {
   "cell_type": "markdown",
   "metadata": {},
   "source": [
    "### Predict Values"
   ]
  },
  {
   "cell_type": "code",
   "execution_count": 16,
   "metadata": {},
   "outputs": [],
   "source": [
    "y_pred = model.predict_classes(X_test)"
   ]
  },
  {
   "cell_type": "code",
   "execution_count": 17,
   "metadata": {},
   "outputs": [
    {
     "name": "stdout",
     "output_type": "stream",
     "text": [
      "[[0]\n",
      " [1]\n",
      " [0]\n",
      " [0]\n",
      " [0]]\n",
      "[0 1 0 0 0]\n"
     ]
    }
   ],
   "source": [
    "print(y_pred[:5])\n",
    "print(y_test[:5])"
   ]
  },
  {
   "cell_type": "markdown",
   "metadata": {},
   "source": [
    "### Evaluate the Model"
   ]
  },
  {
   "cell_type": "code",
   "execution_count": 18,
   "metadata": {},
   "outputs": [
    {
     "name": "stdout",
     "output_type": "stream",
     "text": [
      "2145/2145 [==============================] - 0s 88us/step\n",
      "[0.027202624836388436, 0.9944055944055944]\n"
     ]
    }
   ],
   "source": [
    "score = model.evaluate(X_test, y_test,verbose=1)\n",
    "\n",
    "print(score)"
   ]
  },
  {
   "cell_type": "code",
   "execution_count": 19,
   "metadata": {},
   "outputs": [
    {
     "data": {
      "text/plain": [
       "array([[1585,    3],\n",
       "       [   9,  548]])"
      ]
     },
     "execution_count": 19,
     "metadata": {},
     "output_type": "execute_result"
    }
   ],
   "source": [
    "# Import the modules from `sklearn.metrics`\n",
    "from sklearn.metrics import confusion_matrix, precision_score, recall_score, f1_score, cohen_kappa_score\n",
    "\n",
    "# Confusion matrix\n",
    "confusion_matrix(y_test, y_pred)"
   ]
  },
  {
   "cell_type": "code",
   "execution_count": 20,
   "metadata": {},
   "outputs": [
    {
     "data": {
      "text/plain": [
       "0.9945553539019963"
      ]
     },
     "execution_count": 20,
     "metadata": {},
     "output_type": "execute_result"
    }
   ],
   "source": [
    "# Precision \n",
    "precision_score(y_test, y_pred)"
   ]
  },
  {
   "cell_type": "code",
   "execution_count": 21,
   "metadata": {},
   "outputs": [
    {
     "data": {
      "text/plain": [
       "0.9838420107719928"
      ]
     },
     "execution_count": 21,
     "metadata": {},
     "output_type": "execute_result"
    }
   ],
   "source": [
    "# Recall\n",
    "recall_score(y_test, y_pred)"
   ]
  },
  {
   "cell_type": "code",
   "execution_count": 22,
   "metadata": {},
   "outputs": [
    {
     "data": {
      "text/plain": [
       "0.9891696750902527"
      ]
     },
     "execution_count": 22,
     "metadata": {},
     "output_type": "execute_result"
    }
   ],
   "source": [
    "# F1 score\n",
    "f1_score(y_test,y_pred)"
   ]
  },
  {
   "cell_type": "code",
   "execution_count": 23,
   "metadata": {},
   "outputs": [
    {
     "data": {
      "text/plain": [
       "0.9853986111095354"
      ]
     },
     "execution_count": 23,
     "metadata": {},
     "output_type": "execute_result"
    }
   ],
   "source": [
    "# Cohen's kappa\n",
    "cohen_kappa_score(y_test, y_pred)"
   ]
  },
  {
   "cell_type": "markdown",
   "metadata": {},
   "source": [
    "## Predict Quality"
   ]
  },
  {
   "cell_type": "markdown",
   "metadata": {},
   "source": [
    "### Preprocess data"
   ]
  },
  {
   "cell_type": "code",
   "execution_count": 24,
   "metadata": {},
   "outputs": [],
   "source": [
    "# Isolate target labels\n",
    "Y = wines.quality\n",
    "\n",
    "# Isolate data\n",
    "X = wines.drop('quality', axis=1)"
   ]
  },
  {
   "cell_type": "code",
   "execution_count": 25,
   "metadata": {},
   "outputs": [],
   "source": [
    "# Scale the data with `StandardScaler`\n",
    "X = StandardScaler().fit_transform(X)"
   ]
  },
  {
   "cell_type": "markdown",
   "metadata": {},
   "source": [
    "### Model, Compile, Fit and Evaluation"
   ]
  },
  {
   "cell_type": "code",
   "execution_count": 26,
   "metadata": {},
   "outputs": [
    {
     "name": "stdout",
     "output_type": "stream",
     "text": [
      "The MSE value of Model 1 is 0.490089\n",
      "The MAE value of Model 1 is 0.538095\n",
      "The r2_score of Model 1 is 0.359251\n",
      "\n",
      "The MSE value of Model 2 is 0.534342\n",
      "The MAE value of Model 2 is 0.562281\n",
      "The r2_score of Model 2 is 0.300120\n",
      "\n",
      "The MSE value of Model 3 is 0.553186\n",
      "The MAE value of Model 3 is 0.558414\n",
      "The r2_score of Model 3 is 0.275438\n",
      "\n",
      "The MSE value of Model 4 is 0.557667\n",
      "The MAE value of Model 4 is 0.592322\n",
      "The r2_score of Model 4 is 0.266682\n",
      "\n",
      "The MSE value of Model 5 is 0.486116\n",
      "The MAE value of Model 5 is 0.547870\n",
      "The r2_score of Model 5 is 0.360356\n",
      "\n",
      "The average MSE value is 0.524280\n",
      "The average MAE value is 0.559796\n",
      "The average r2_score is 0.312369\n"
     ]
    }
   ],
   "source": [
    "import numpy as np\n",
    "from keras.models import Sequential\n",
    "from keras.layers import Dense\n",
    "from sklearn.model_selection import StratifiedKFold\n",
    "from sklearn.metrics import r2_score\n",
    "\n",
    "seed = 7\n",
    "np.random.seed(seed)\n",
    "\n",
    "kfold = StratifiedKFold(n_splits=5, shuffle=True, random_state=seed)\n",
    "counter = 1\n",
    "mse_list,mae_list,r2_list = [],[],[]\n",
    "for train, test in kfold.split(X, Y):\n",
    "    # Initialize the model\n",
    "    model = Sequential()\n",
    "    \n",
    "    # Add input layer \n",
    "    model.add(Dense(64, input_dim=12, activation='relu'))\n",
    "        \n",
    "    # Add output layer \n",
    "    model.add(Dense(1))\n",
    "    \n",
    "    model.compile(optimizer='rmsprop', loss='mse', metrics=['mae'])\n",
    "    \n",
    "    model.fit(X[train], Y[train], epochs=10, verbose=0)\n",
    "    \n",
    "    mse_value, mae_value = model.evaluate(X[test], Y[test], verbose=0)\n",
    "    y_pred = model.predict(X[test])\n",
    "    r2 = r2_score(Y[test], y_pred)\n",
    "    \n",
    "    mse_list.append(mse_value)\n",
    "    mae_list.append(mae_value)\n",
    "    r2_list.append(r2)\n",
    "\n",
    "    print('The MSE value of Model %d is %f'%(counter,mse_value))\n",
    "    print('The MAE value of Model %d is %f'%(counter,mae_value))\n",
    "    print('The r2_score of Model %d is %f'%(counter,r2))\n",
    "    print()\n",
    "    counter += 1\n",
    "\n",
    "print('The average MSE value is %f'%np.mean(mse_list))\n",
    "print('The average MAE value is %f'%np.mean(mae_list))\n",
    "print('The average r2_score is %f'%np.mean(r2_list))"
   ]
  },
  {
   "cell_type": "markdown",
   "metadata": {},
   "source": [
    "### Fine-Tune Parameters"
   ]
  },
  {
   "cell_type": "code",
   "execution_count": 27,
   "metadata": {},
   "outputs": [
    {
     "name": "stdout",
     "output_type": "stream",
     "text": [
      "The MSE value of Model 1 is 0.478904\n",
      "The MAE value of Model 1 is 0.537547\n",
      "The r2_score of Model 1 is 0.373875\n",
      "\n",
      "The MSE value of Model 2 is 0.498013\n",
      "The MAE value of Model 2 is 0.543272\n",
      "The r2_score of Model 2 is 0.347704\n",
      "\n",
      "The MSE value of Model 3 is 0.501575\n",
      "The MAE value of Model 3 is 0.545215\n",
      "The r2_score of Model 3 is 0.343038\n",
      "\n",
      "The MSE value of Model 4 is 0.508105\n",
      "The MAE value of Model 4 is 0.557269\n",
      "The r2_score of Model 4 is 0.331854\n",
      "\n",
      "The MSE value of Model 5 is 0.473552\n",
      "The MAE value of Model 5 is 0.540657\n",
      "The r2_score of Model 5 is 0.376888\n",
      "\n",
      "The average MSE value is 0.492030\n",
      "The average MAE value is 0.544792\n",
      "The average r2_score is 0.354672\n"
     ]
    }
   ],
   "source": [
    "import numpy as np\n",
    "from keras.models import Sequential\n",
    "from keras.layers import Dense\n",
    "from sklearn.model_selection import StratifiedKFold\n",
    "from sklearn.metrics import r2_score\n",
    "\n",
    "from keras.optimizers import SGD, RMSprop\n",
    "#rmsprop = RMSprop(lr=0.01)\n",
    "#sgd=SGD(lr=0.1)\n",
    "\n",
    "seed = 7\n",
    "np.random.seed(seed)\n",
    "\n",
    "kfold = StratifiedKFold(n_splits=5, shuffle=True, random_state=seed)\n",
    "counter = 1\n",
    "mse_list,mae_list,r2_list = [],[],[]\n",
    "for train, test in kfold.split(X, Y):\n",
    "    # Initialize the model\n",
    "    model = Sequential()\n",
    "    \n",
    "    # Add input layer \n",
    "    model.add(Dense(64, input_dim=12, activation='relu'))\n",
    "    \n",
    "    # Add hidden layer \n",
    "    model.add(Dense(12, activation='relu'))\n",
    "    \n",
    "    # Add output layer \n",
    "    model.add(Dense(1))\n",
    "    \n",
    "    model.compile(optimizer='rmsprop', loss='mse', metrics=['mae'])\n",
    "    \n",
    "    model.fit(X[train], Y[train], epochs=20, verbose=0)\n",
    "    \n",
    "    mse_value, mae_value = model.evaluate(X[test], Y[test], verbose=0)\n",
    "    y_pred = model.predict(X[test])\n",
    "    r2 = r2_score(Y[test], y_pred)\n",
    "    \n",
    "    mse_list.append(mse_value)\n",
    "    mae_list.append(mae_value)\n",
    "    r2_list.append(r2)\n",
    "\n",
    "    print('The MSE value of Model %d is %f'%(counter,mse_value))\n",
    "    print('The MAE value of Model %d is %f'%(counter,mae_value))\n",
    "    print('The r2_score of Model %d is %f'%(counter,r2))\n",
    "    print()\n",
    "    counter += 1\n",
    "\n",
    "print('The average MSE value is %f'%np.mean(mse_list))\n",
    "print('The average MAE value is %f'%np.mean(mae_list))\n",
    "print('The average r2_score is %f'%np.mean(r2_list))"
   ]
  },
  {
   "cell_type": "code",
   "execution_count": 28,
   "metadata": {},
   "outputs": [
    {
     "name": "stdout",
     "output_type": "stream",
     "text": [
      "[[5.175155 ]\n",
      " [5.084621 ]\n",
      " [5.4259715]\n",
      " [4.856063 ]\n",
      " [5.1939087]]\n",
      "1     5\n",
      "6     5\n",
      "8     7\n",
      "14    5\n",
      "18    4\n",
      "Name: quality, dtype: int64\n"
     ]
    }
   ],
   "source": [
    "print(y_pred[:5])\n",
    "print(Y[test][:5])"
   ]
  },
  {
   "cell_type": "code",
   "execution_count": null,
   "metadata": {},
   "outputs": [],
   "source": []
  }
 ],
 "metadata": {
  "kernelspec": {
   "display_name": "Python 3",
   "language": "python",
   "name": "python3"
  },
  "language_info": {
   "codemirror_mode": {
    "name": "ipython",
    "version": 3
   },
   "file_extension": ".py",
   "mimetype": "text/x-python",
   "name": "python",
   "nbconvert_exporter": "python",
   "pygments_lexer": "ipython3",
   "version": "3.6.8"
  }
 },
 "nbformat": 4,
 "nbformat_minor": 2
}
